{
  "nbformat": 4,
  "nbformat_minor": 0,
  "metadata": {
    "colab": {
      "name": "EDA analysis + RandomTree + Gradient Boosting.ipynb",
      "version": "0.3.2",
      "provenance": [],
      "collapsed_sections": []
    },
    "kernelspec": {
      "name": "python3",
      "display_name": "Python 3"
    }
  },
  "cells": [
    {
      "cell_type": "code",
      "metadata": {
        "id": "CFpkKW5z5IIU",
        "colab_type": "code",
        "colab": {}
      },
      "source": [
        "import numpy as np \n",
        "import pandas as pd\n",
        "import matplotlib.pyplot as plt\n",
        "plt.rcParams['figure.figsize'] = (10,10)\n",
        "\n",
        "import seaborn as sns\n",
        "plt.style.use('fivethirtyeight')\n",
        "import warnings\n",
        "warnings.filterwarnings('ignore')\n",
        "%matplotlib inline"
      ],
      "execution_count": 0,
      "outputs": []
    },
    {
      "cell_type": "code",
      "metadata": {
        "id": "Nx9bVyTJ5mdj",
        "colab_type": "code",
        "outputId": "5b99ff52-1467-44ef-b686-4e2e1990e6f6",
        "colab": {
          "base_uri": "https://localhost:8080/",
          "height": 216
        }
      },
      "source": [
        "data = pd.read_excel('data.xlsx', index_col=0)\n",
        "data.head(3)"
      ],
      "execution_count": 2,
      "outputs": [
        {
          "output_type": "execute_result",
          "data": {
            "text/html": [
              "<div>\n",
              "<style scoped>\n",
              "    .dataframe tbody tr th:only-of-type {\n",
              "        vertical-align: middle;\n",
              "    }\n",
              "\n",
              "    .dataframe tbody tr th {\n",
              "        vertical-align: top;\n",
              "    }\n",
              "\n",
              "    .dataframe thead th {\n",
              "        text-align: right;\n",
              "    }\n",
              "</style>\n",
              "<table border=\"1\" class=\"dataframe\">\n",
              "  <thead>\n",
              "    <tr style=\"text-align: right;\">\n",
              "      <th></th>\n",
              "      <th>target</th>\n",
              "      <th>c1</th>\n",
              "      <th>c2</th>\n",
              "      <th>c3</th>\n",
              "      <th>c4</th>\n",
              "      <th>c5</th>\n",
              "      <th>c6</th>\n",
              "      <th>c7</th>\n",
              "      <th>c8</th>\n",
              "      <th>f1</th>\n",
              "      <th>f2</th>\n",
              "      <th>f3</th>\n",
              "    </tr>\n",
              "    <tr>\n",
              "      <th>loan_id</th>\n",
              "      <th></th>\n",
              "      <th></th>\n",
              "      <th></th>\n",
              "      <th></th>\n",
              "      <th></th>\n",
              "      <th></th>\n",
              "      <th></th>\n",
              "      <th></th>\n",
              "      <th></th>\n",
              "      <th></th>\n",
              "      <th></th>\n",
              "      <th></th>\n",
              "    </tr>\n",
              "  </thead>\n",
              "  <tbody>\n",
              "    <tr>\n",
              "      <th>1</th>\n",
              "      <td>0</td>\n",
              "      <td>NaN</td>\n",
              "      <td>100.987693</td>\n",
              "      <td>0.244307</td>\n",
              "      <td>NaN</td>\n",
              "      <td>292.990245</td>\n",
              "      <td>-7.608697</td>\n",
              "      <td>29.799024</td>\n",
              "      <td>0.000254</td>\n",
              "      <td>cat3</td>\n",
              "      <td>cat2</td>\n",
              "      <td>cat1</td>\n",
              "    </tr>\n",
              "    <tr>\n",
              "      <th>2</th>\n",
              "      <td>1</td>\n",
              "      <td>-3.491385</td>\n",
              "      <td>69.729741</td>\n",
              "      <td>1.203940</td>\n",
              "      <td>NaN</td>\n",
              "      <td>300.505830</td>\n",
              "      <td>-3.341621</td>\n",
              "      <td>30.550583</td>\n",
              "      <td>0.000343</td>\n",
              "      <td>cat4</td>\n",
              "      <td>cat2</td>\n",
              "      <td>cat1</td>\n",
              "    </tr>\n",
              "    <tr>\n",
              "      <th>3</th>\n",
              "      <td>1</td>\n",
              "      <td>-13.319012</td>\n",
              "      <td>171.782722</td>\n",
              "      <td>0.643540</td>\n",
              "      <td>NaN</td>\n",
              "      <td>324.569894</td>\n",
              "      <td>-6.020134</td>\n",
              "      <td>32.956989</td>\n",
              "      <td>0.000113</td>\n",
              "      <td>NaN</td>\n",
              "      <td>NaN</td>\n",
              "      <td>cat2</td>\n",
              "    </tr>\n",
              "  </tbody>\n",
              "</table>\n",
              "</div>"
            ],
            "text/plain": [
              "         target         c1          c2        c3  ...        c8    f1    f2    f3\n",
              "loan_id                                           ...                            \n",
              "1             0        NaN  100.987693  0.244307  ...  0.000254  cat3  cat2  cat1\n",
              "2             1  -3.491385   69.729741  1.203940  ...  0.000343  cat4  cat2  cat1\n",
              "3             1 -13.319012  171.782722  0.643540  ...  0.000113   NaN   NaN  cat2\n",
              "\n",
              "[3 rows x 12 columns]"
            ]
          },
          "metadata": {
            "tags": []
          },
          "execution_count": 2
        }
      ]
    },
    {
      "cell_type": "code",
      "metadata": {
        "id": "PiavgaxkH6s6",
        "colab_type": "code",
        "outputId": "af9a8a26-a3e7-4159-d9ff-45ee84e22676",
        "colab": {
          "base_uri": "https://localhost:8080/",
          "height": 340
        }
      },
      "source": [
        "data.describe()"
      ],
      "execution_count": 3,
      "outputs": [
        {
          "output_type": "execute_result",
          "data": {
            "text/html": [
              "<div>\n",
              "<style scoped>\n",
              "    .dataframe tbody tr th:only-of-type {\n",
              "        vertical-align: middle;\n",
              "    }\n",
              "\n",
              "    .dataframe tbody tr th {\n",
              "        vertical-align: top;\n",
              "    }\n",
              "\n",
              "    .dataframe thead th {\n",
              "        text-align: right;\n",
              "    }\n",
              "</style>\n",
              "<table border=\"1\" class=\"dataframe\">\n",
              "  <thead>\n",
              "    <tr style=\"text-align: right;\">\n",
              "      <th></th>\n",
              "      <th>target</th>\n",
              "      <th>c1</th>\n",
              "      <th>c2</th>\n",
              "      <th>c3</th>\n",
              "      <th>c4</th>\n",
              "      <th>c5</th>\n",
              "      <th>c6</th>\n",
              "      <th>c7</th>\n",
              "      <th>c8</th>\n",
              "    </tr>\n",
              "  </thead>\n",
              "  <tbody>\n",
              "    <tr>\n",
              "      <th>count</th>\n",
              "      <td>1000.000000</td>\n",
              "      <td>895.000000</td>\n",
              "      <td>898.000000</td>\n",
              "      <td>898.000000</td>\n",
              "      <td>8.980000e+02</td>\n",
              "      <td>896.000000</td>\n",
              "      <td>891.000000</td>\n",
              "      <td>904.000000</td>\n",
              "      <td>891.000000</td>\n",
              "    </tr>\n",
              "    <tr>\n",
              "      <th>mean</th>\n",
              "      <td>0.505000</td>\n",
              "      <td>-19.121633</td>\n",
              "      <td>104.545624</td>\n",
              "      <td>-2.157325</td>\n",
              "      <td>7.191213e-01</td>\n",
              "      <td>312.715550</td>\n",
              "      <td>-1.107039</td>\n",
              "      <td>31.696265</td>\n",
              "      <td>0.009874</td>\n",
              "    </tr>\n",
              "    <tr>\n",
              "      <th>std</th>\n",
              "      <td>0.500225</td>\n",
              "      <td>6.529655</td>\n",
              "      <td>28.405828</td>\n",
              "      <td>64.948341</td>\n",
              "      <td>1.818080e+01</td>\n",
              "      <td>93.347974</td>\n",
              "      <td>4.190027</td>\n",
              "      <td>9.425144</td>\n",
              "      <td>0.030112</td>\n",
              "    </tr>\n",
              "    <tr>\n",
              "      <th>min</th>\n",
              "      <td>0.000000</td>\n",
              "      <td>-41.035358</td>\n",
              "      <td>0.000000</td>\n",
              "      <td>-1930.139580</td>\n",
              "      <td>1.991749e-09</td>\n",
              "      <td>-5.000000</td>\n",
              "      <td>-15.241649</td>\n",
              "      <td>0.000000</td>\n",
              "      <td>0.000003</td>\n",
              "    </tr>\n",
              "    <tr>\n",
              "      <th>25%</th>\n",
              "      <td>0.000000</td>\n",
              "      <td>-23.506621</td>\n",
              "      <td>85.227066</td>\n",
              "      <td>-0.574418</td>\n",
              "      <td>7.641420e-05</td>\n",
              "      <td>253.703807</td>\n",
              "      <td>-3.886878</td>\n",
              "      <td>25.426370</td>\n",
              "      <td>0.000930</td>\n",
              "    </tr>\n",
              "    <tr>\n",
              "      <th>50%</th>\n",
              "      <td>1.000000</td>\n",
              "      <td>-18.945191</td>\n",
              "      <td>103.142654</td>\n",
              "      <td>0.322452</td>\n",
              "      <td>8.525977e-04</td>\n",
              "      <td>309.875590</td>\n",
              "      <td>-1.078512</td>\n",
              "      <td>31.633251</td>\n",
              "      <td>0.002697</td>\n",
              "    </tr>\n",
              "    <tr>\n",
              "      <th>75%</th>\n",
              "      <td>1.000000</td>\n",
              "      <td>-14.771743</td>\n",
              "      <td>123.320364</td>\n",
              "      <td>0.729773</td>\n",
              "      <td>1.227027e-02</td>\n",
              "      <td>374.749219</td>\n",
              "      <td>1.788421</td>\n",
              "      <td>37.974922</td>\n",
              "      <td>0.008418</td>\n",
              "    </tr>\n",
              "    <tr>\n",
              "      <th>max</th>\n",
              "      <td>1.000000</td>\n",
              "      <td>0.000000</td>\n",
              "      <td>188.117528</td>\n",
              "      <td>85.586040</td>\n",
              "      <td>5.440642e+02</td>\n",
              "      <td>666.955488</td>\n",
              "      <td>13.851844</td>\n",
              "      <td>67.195549</td>\n",
              "      <td>0.608675</td>\n",
              "    </tr>\n",
              "  </tbody>\n",
              "</table>\n",
              "</div>"
            ],
            "text/plain": [
              "            target          c1          c2  ...          c6          c7          c8\n",
              "count  1000.000000  895.000000  898.000000  ...  891.000000  904.000000  891.000000\n",
              "mean      0.505000  -19.121633  104.545624  ...   -1.107039   31.696265    0.009874\n",
              "std       0.500225    6.529655   28.405828  ...    4.190027    9.425144    0.030112\n",
              "min       0.000000  -41.035358    0.000000  ...  -15.241649    0.000000    0.000003\n",
              "25%       0.000000  -23.506621   85.227066  ...   -3.886878   25.426370    0.000930\n",
              "50%       1.000000  -18.945191  103.142654  ...   -1.078512   31.633251    0.002697\n",
              "75%       1.000000  -14.771743  123.320364  ...    1.788421   37.974922    0.008418\n",
              "max       1.000000    0.000000  188.117528  ...   13.851844   67.195549    0.608675\n",
              "\n",
              "[8 rows x 9 columns]"
            ]
          },
          "metadata": {
            "tags": []
          },
          "execution_count": 3
        }
      ]
    },
    {
      "cell_type": "markdown",
      "metadata": {
        "id": "2tUzpoQ097s8",
        "colab_type": "text"
      },
      "source": [
        "### Let's look at the amount on nan values in data\n",
        "\n"
      ]
    },
    {
      "cell_type": "code",
      "metadata": {
        "id": "JX5k54AA7YpV",
        "colab_type": "code",
        "outputId": "4bd58ad0-9c28-4adc-ea51-d348808f0ea8",
        "colab": {
          "base_uri": "https://localhost:8080/",
          "height": 354
        }
      },
      "source": [
        "plt.figure(figsize=(10,5))\n",
        "data.isnull().mean().plot('bar');\n",
        "plt.title('Part of nan values per feature');"
      ],
      "execution_count": 4,
      "outputs": [
        {
          "output_type": "display_data",
          "data": {
            "image/png": "[encoded data removed]",
            "text/plain": [
              "<Figure size 720x360 with 1 Axes>"
            ]
          },
          "metadata": {
            "tags": []
          }
        }
      ]
    },
    {
      "cell_type": "markdown",
      "metadata": {
        "id": "58N3Y58s-E0p",
        "colab_type": "text"
      },
      "source": [
        "### Let's see how balanced are our classes"
      ]
    },
    {
      "cell_type": "code",
      "metadata": {
        "id": "MyZU4HT-6nUQ",
        "colab_type": "code",
        "outputId": "c8fe9e36-187c-4e3f-83c8-c1d5de86f292",
        "colab": {
          "base_uri": "https://localhost:8080/",
          "height": 292
        }
      },
      "source": [
        "data.groupby('target')['target'].count().plot('bar');\n",
        "plt.title('Target count');"
      ],
      "execution_count": 5,
      "outputs": [
        {
          "output_type": "display_data",
          "data": {
            "image/png": "[encoded data removed]",
            "text/plain": [
              "<Figure size 432x288 with 1 Axes>"
            ]
          },
          "metadata": {
            "tags": []
          }
        }
      ]
    },
    {
      "cell_type": "markdown",
      "metadata": {
        "id": "f4iVkAJs-RVH",
        "colab_type": "text"
      },
      "source": [
        "### As we can see 70% of data contains at least on nan in features"
      ]
    },
    {
      "cell_type": "code",
      "metadata": {
        "id": "Juu9F1RxE6e1",
        "colab_type": "code",
        "outputId": "551b188f-78d7-44ba-db89-5ed204accdbb",
        "colab": {
          "base_uri": "https://localhost:8080/",
          "height": 36
        }
      },
      "source": [
        "data.isnull().any(axis=1).mean()"
      ],
      "execution_count": 6,
      "outputs": [
        {
          "output_type": "execute_result",
          "data": {
            "text/plain": [
              "0.7"
            ]
          },
          "metadata": {
            "tags": []
          },
          "execution_count": 6
        }
      ]
    },
    {
      "cell_type": "markdown",
      "metadata": {
        "id": "1d41wWCc-g96",
        "colab_type": "text"
      },
      "source": [
        "### Amount are pretty the same per class"
      ]
    },
    {
      "cell_type": "code",
      "metadata": {
        "id": "--L7tuNGEgWp",
        "colab_type": "code",
        "outputId": "b869435a-ca4e-40e0-988b-3e1c0042b01b",
        "colab": {
          "base_uri": "https://localhost:8080/",
          "height": 276
        }
      },
      "source": [
        "data.groupby('target').apply(lambda x: x.isnull().any(axis=1).mean()).plot('bar');"
      ],
      "execution_count": 7,
      "outputs": [
        {
          "output_type": "display_data",
          "data": {
            "image/png": "[encoded data removed]",
            "text/plain": [
              "<Figure size 432x288 with 1 Axes>"
            ]
          },
          "metadata": {
            "tags": []
          }
        }
      ]
    },
    {
      "cell_type": "markdown",
      "metadata": {
        "id": "f6fFVBSjHACu",
        "colab_type": "text"
      },
      "source": [
        "## Because of this big amount of nan in data it would make sense to leave nans in each column as additional feature\n",
        "\n"
      ]
    },
    {
      "cell_type": "markdown",
      "metadata": {
        "id": "F-O1Dndz-6-w",
        "colab_type": "text"
      },
      "source": [
        "### Let's take a look at categorical features and dependencies with target "
      ]
    },
    {
      "cell_type": "code",
      "metadata": {
        "id": "qg3ccook_CqE",
        "colab_type": "code",
        "outputId": "22455093-6d1d-4276-bfbb-906bc91e57f3",
        "colab": {
          "base_uri": "https://localhost:8080/",
          "height": 450
        }
      },
      "source": [
        "for col_name, col in data.filter(like='f').fillna('nan').items():\n",
        "  display(\n",
        "  pd.crosstab(col, data['target'], normalize='index').style.background_gradient(cmap='viridis'))"
      ],
      "execution_count": 8,
      "outputs": [
        {
          "output_type": "display_data",
          "data": {
            "text/html": [
              "<style  type=\"text/css\" >\n",
              "    #T_ad679a12_95db_11e9_93a4_0242ac1c0002row0_col0 {\n",
              "            background-color:  #fde725;\n",
              "            color:  #000000;\n",
              "        }    #T_ad679a12_95db_11e9_93a4_0242ac1c0002row0_col1 {\n",
              "            background-color:  #440154;\n",
              "            color:  #f1f1f1;\n",
              "        }    #T_ad679a12_95db_11e9_93a4_0242ac1c0002row1_col0 {\n",
              "            background-color:  #443b84;\n",
              "            color:  #f1f1f1;\n",
              "        }    #T_ad679a12_95db_11e9_93a4_0242ac1c0002row1_col1 {\n",
              "            background-color:  #8bd646;\n",
              "            color:  #000000;\n",
              "        }    #T_ad679a12_95db_11e9_93a4_0242ac1c0002row2_col0 {\n",
              "            background-color:  #481769;\n",
              "            color:  #f1f1f1;\n",
              "        }    #T_ad679a12_95db_11e9_93a4_0242ac1c0002row2_col1 {\n",
              "            background-color:  #d8e219;\n",
              "            color:  #000000;\n",
              "        }    #T_ad679a12_95db_11e9_93a4_0242ac1c0002row3_col0 {\n",
              "            background-color:  #23888e;\n",
              "            color:  #000000;\n",
              "        }    #T_ad679a12_95db_11e9_93a4_0242ac1c0002row3_col1 {\n",
              "            background-color:  #1f988b;\n",
              "            color:  #000000;\n",
              "        }    #T_ad679a12_95db_11e9_93a4_0242ac1c0002row4_col0 {\n",
              "            background-color:  #440154;\n",
              "            color:  #f1f1f1;\n",
              "        }    #T_ad679a12_95db_11e9_93a4_0242ac1c0002row4_col1 {\n",
              "            background-color:  #fde725;\n",
              "            color:  #000000;\n",
              "        }</style><table id=\"T_ad679a12_95db_11e9_93a4_0242ac1c0002\" ><thead>    <tr>        <th class=\"index_name level0\" >target</th>        <th class=\"col_heading level0 col0\" >0</th>        <th class=\"col_heading level0 col1\" >1</th>    </tr>    <tr>        <th class=\"index_name level0\" >f1</th>        <th class=\"blank\" ></th>        <th class=\"blank\" ></th>    </tr></thead><tbody>\n",
              "                <tr>\n",
              "                        <th id=\"T_ad679a12_95db_11e9_93a4_0242ac1c0002level0_row0\" class=\"row_heading level0 row0\" >cat1</th>\n",
              "                        <td id=\"T_ad679a12_95db_11e9_93a4_0242ac1c0002row0_col0\" class=\"data row0 col0\" >0.572464</td>\n",
              "                        <td id=\"T_ad679a12_95db_11e9_93a4_0242ac1c0002row0_col1\" class=\"data row0 col1\" >0.427536</td>\n",
              "            </tr>\n",
              "            <tr>\n",
              "                        <th id=\"T_ad679a12_95db_11e9_93a4_0242ac1c0002level0_row1\" class=\"row_heading level0 row1\" >cat2</th>\n",
              "                        <td id=\"T_ad679a12_95db_11e9_93a4_0242ac1c0002row1_col0\" class=\"data row1 col0\" >0.477124</td>\n",
              "                        <td id=\"T_ad679a12_95db_11e9_93a4_0242ac1c0002row1_col1\" class=\"data row1 col1\" >0.522876</td>\n",
              "            </tr>\n",
              "            <tr>\n",
              "                        <th id=\"T_ad679a12_95db_11e9_93a4_0242ac1c0002level0_row2\" class=\"row_heading level0 row2\" >cat3</th>\n",
              "                        <td id=\"T_ad679a12_95db_11e9_93a4_0242ac1c0002row2_col0\" class=\"data row2 col0\" >0.464088</td>\n",
              "                        <td id=\"T_ad679a12_95db_11e9_93a4_0242ac1c0002row2_col1\" class=\"data row2 col1\" >0.535912</td>\n",
              "            </tr>\n",
              "            <tr>\n",
              "                        <th id=\"T_ad679a12_95db_11e9_93a4_0242ac1c0002level0_row3\" class=\"row_heading level0 row3\" >cat4</th>\n",
              "                        <td id=\"T_ad679a12_95db_11e9_93a4_0242ac1c0002row3_col0\" class=\"data row3 col0\" >0.511111</td>\n",
              "                        <td id=\"T_ad679a12_95db_11e9_93a4_0242ac1c0002row3_col1\" class=\"data row3 col1\" >0.488889</td>\n",
              "            </tr>\n",
              "            <tr>\n",
              "                        <th id=\"T_ad679a12_95db_11e9_93a4_0242ac1c0002level0_row4\" class=\"row_heading level0 row4\" >nan</th>\n",
              "                        <td id=\"T_ad679a12_95db_11e9_93a4_0242ac1c0002row4_col0\" class=\"data row4 col0\" >0.457143</td>\n",
              "                        <td id=\"T_ad679a12_95db_11e9_93a4_0242ac1c0002row4_col1\" class=\"data row4 col1\" >0.542857</td>\n",
              "            </tr>\n",
              "    </tbody></table>"
            ],
            "text/plain": [
              "<pandas.io.formats.style.Styler at 0x7f34394debe0>"
            ]
          },
          "metadata": {
            "tags": []
          }
        },
        {
          "output_type": "display_data",
          "data": {
            "text/html": [
              "<style  type=\"text/css\" >\n",
              "    #T_ad6cecb0_95db_11e9_93a4_0242ac1c0002row0_col0 {\n",
              "            background-color:  #440154;\n",
              "            color:  #f1f1f1;\n",
              "        }    #T_ad6cecb0_95db_11e9_93a4_0242ac1c0002row0_col1 {\n",
              "            background-color:  #fde725;\n",
              "            color:  #000000;\n",
              "        }    #T_ad6cecb0_95db_11e9_93a4_0242ac1c0002row1_col0 {\n",
              "            background-color:  #9dd93b;\n",
              "            color:  #000000;\n",
              "        }    #T_ad6cecb0_95db_11e9_93a4_0242ac1c0002row1_col1 {\n",
              "            background-color:  #46337f;\n",
              "            color:  #f1f1f1;\n",
              "        }    #T_ad6cecb0_95db_11e9_93a4_0242ac1c0002row2_col0 {\n",
              "            background-color:  #fde725;\n",
              "            color:  #000000;\n",
              "        }    #T_ad6cecb0_95db_11e9_93a4_0242ac1c0002row2_col1 {\n",
              "            background-color:  #440154;\n",
              "            color:  #f1f1f1;\n",
              "        }    #T_ad6cecb0_95db_11e9_93a4_0242ac1c0002row3_col0 {\n",
              "            background-color:  #228c8d;\n",
              "            color:  #000000;\n",
              "        }    #T_ad6cecb0_95db_11e9_93a4_0242ac1c0002row3_col1 {\n",
              "            background-color:  #1f948c;\n",
              "            color:  #000000;\n",
              "        }</style><table id=\"T_ad6cecb0_95db_11e9_93a4_0242ac1c0002\" ><thead>    <tr>        <th class=\"index_name level0\" >target</th>        <th class=\"col_heading level0 col0\" >0</th>        <th class=\"col_heading level0 col1\" >1</th>    </tr>    <tr>        <th class=\"index_name level0\" >f2</th>        <th class=\"blank\" ></th>        <th class=\"blank\" ></th>    </tr></thead><tbody>\n",
              "                <tr>\n",
              "                        <th id=\"T_ad6cecb0_95db_11e9_93a4_0242ac1c0002level0_row0\" class=\"row_heading level0 row0\" >cat1</th>\n",
              "                        <td id=\"T_ad6cecb0_95db_11e9_93a4_0242ac1c0002row0_col0\" class=\"data row0 col0\" >0.283828</td>\n",
              "                        <td id=\"T_ad6cecb0_95db_11e9_93a4_0242ac1c0002row0_col1\" class=\"data row0 col1\" >0.716172</td>\n",
              "            </tr>\n",
              "            <tr>\n",
              "                        <th id=\"T_ad6cecb0_95db_11e9_93a4_0242ac1c0002level0_row1\" class=\"row_heading level0 row1\" >cat2</th>\n",
              "                        <td id=\"T_ad6cecb0_95db_11e9_93a4_0242ac1c0002row1_col0\" class=\"data row1 col0\" >0.582781</td>\n",
              "                        <td id=\"T_ad6cecb0_95db_11e9_93a4_0242ac1c0002row1_col1\" class=\"data row1 col1\" >0.417219</td>\n",
              "            </tr>\n",
              "            <tr>\n",
              "                        <th id=\"T_ad6cecb0_95db_11e9_93a4_0242ac1c0002level0_row2\" class=\"row_heading level0 row2\" >cat3</th>\n",
              "                        <td id=\"T_ad6cecb0_95db_11e9_93a4_0242ac1c0002row2_col0\" class=\"data row2 col0\" >0.633333</td>\n",
              "                        <td id=\"T_ad6cecb0_95db_11e9_93a4_0242ac1c0002row2_col1\" class=\"data row2 col1\" >0.366667</td>\n",
              "            </tr>\n",
              "            <tr>\n",
              "                        <th id=\"T_ad6cecb0_95db_11e9_93a4_0242ac1c0002level0_row3\" class=\"row_heading level0 row3\" >nan</th>\n",
              "                        <td id=\"T_ad6cecb0_95db_11e9_93a4_0242ac1c0002row3_col0\" class=\"data row3 col0\" >0.452632</td>\n",
              "                        <td id=\"T_ad6cecb0_95db_11e9_93a4_0242ac1c0002row3_col1\" class=\"data row3 col1\" >0.547368</td>\n",
              "            </tr>\n",
              "    </tbody></table>"
            ],
            "text/plain": [
              "<pandas.io.formats.style.Styler at 0x7f3445d09e80>"
            ]
          },
          "metadata": {
            "tags": []
          }
        },
        {
          "output_type": "display_data",
          "data": {
            "text/html": [
              "<style  type=\"text/css\" >\n",
              "    #T_ad72b078_95db_11e9_93a4_0242ac1c0002row0_col0 {\n",
              "            background-color:  #fde725;\n",
              "            color:  #000000;\n",
              "        }    #T_ad72b078_95db_11e9_93a4_0242ac1c0002row0_col1 {\n",
              "            background-color:  #440154;\n",
              "            color:  #f1f1f1;\n",
              "        }    #T_ad72b078_95db_11e9_93a4_0242ac1c0002row1_col0 {\n",
              "            background-color:  #d2e21b;\n",
              "            color:  #000000;\n",
              "        }    #T_ad72b078_95db_11e9_93a4_0242ac1c0002row1_col1 {\n",
              "            background-color:  #481a6c;\n",
              "            color:  #f1f1f1;\n",
              "        }    #T_ad72b078_95db_11e9_93a4_0242ac1c0002row2_col0 {\n",
              "            background-color:  #89d548;\n",
              "            color:  #000000;\n",
              "        }    #T_ad72b078_95db_11e9_93a4_0242ac1c0002row2_col1 {\n",
              "            background-color:  #433d84;\n",
              "            color:  #f1f1f1;\n",
              "        }    #T_ad72b078_95db_11e9_93a4_0242ac1c0002row3_col0 {\n",
              "            background-color:  #440154;\n",
              "            color:  #f1f1f1;\n",
              "        }    #T_ad72b078_95db_11e9_93a4_0242ac1c0002row3_col1 {\n",
              "            background-color:  #fde725;\n",
              "            color:  #000000;\n",
              "        }    #T_ad72b078_95db_11e9_93a4_0242ac1c0002row4_col0 {\n",
              "            background-color:  #1e9b8a;\n",
              "            color:  #000000;\n",
              "        }    #T_ad72b078_95db_11e9_93a4_0242ac1c0002row4_col1 {\n",
              "            background-color:  #25858e;\n",
              "            color:  #000000;\n",
              "        }</style><table id=\"T_ad72b078_95db_11e9_93a4_0242ac1c0002\" ><thead>    <tr>        <th class=\"index_name level0\" >target</th>        <th class=\"col_heading level0 col0\" >0</th>        <th class=\"col_heading level0 col1\" >1</th>    </tr>    <tr>        <th class=\"index_name level0\" >f3</th>        <th class=\"blank\" ></th>        <th class=\"blank\" ></th>    </tr></thead><tbody>\n",
              "                <tr>\n",
              "                        <th id=\"T_ad72b078_95db_11e9_93a4_0242ac1c0002level0_row0\" class=\"row_heading level0 row0\" >cat1</th>\n",
              "                        <td id=\"T_ad72b078_95db_11e9_93a4_0242ac1c0002row0_col0\" class=\"data row0 col0\" >0.575221</td>\n",
              "                        <td id=\"T_ad72b078_95db_11e9_93a4_0242ac1c0002row0_col1\" class=\"data row0 col1\" >0.424779</td>\n",
              "            </tr>\n",
              "            <tr>\n",
              "                        <th id=\"T_ad72b078_95db_11e9_93a4_0242ac1c0002level0_row1\" class=\"row_heading level0 row1\" >cat2</th>\n",
              "                        <td id=\"T_ad72b078_95db_11e9_93a4_0242ac1c0002row1_col0\" class=\"data row1 col0\" >0.558036</td>\n",
              "                        <td id=\"T_ad72b078_95db_11e9_93a4_0242ac1c0002row1_col1\" class=\"data row1 col1\" >0.441964</td>\n",
              "            </tr>\n",
              "            <tr>\n",
              "                        <th id=\"T_ad72b078_95db_11e9_93a4_0242ac1c0002level0_row2\" class=\"row_heading level0 row2\" >cat3</th>\n",
              "                        <td id=\"T_ad72b078_95db_11e9_93a4_0242ac1c0002row2_col0\" class=\"data row2 col0\" >0.53125</td>\n",
              "                        <td id=\"T_ad72b078_95db_11e9_93a4_0242ac1c0002row2_col1\" class=\"data row2 col1\" >0.46875</td>\n",
              "            </tr>\n",
              "            <tr>\n",
              "                        <th id=\"T_ad72b078_95db_11e9_93a4_0242ac1c0002level0_row3\" class=\"row_heading level0 row3\" >cat4</th>\n",
              "                        <td id=\"T_ad72b078_95db_11e9_93a4_0242ac1c0002row3_col0\" class=\"data row3 col0\" >0.327273</td>\n",
              "                        <td id=\"T_ad72b078_95db_11e9_93a4_0242ac1c0002row3_col1\" class=\"data row3 col1\" >0.672727</td>\n",
              "            </tr>\n",
              "            <tr>\n",
              "                        <th id=\"T_ad72b078_95db_11e9_93a4_0242ac1c0002level0_row4\" class=\"row_heading level0 row4\" >nan</th>\n",
              "                        <td id=\"T_ad72b078_95db_11e9_93a4_0242ac1c0002row4_col0\" class=\"data row4 col0\" >0.462264</td>\n",
              "                        <td id=\"T_ad72b078_95db_11e9_93a4_0242ac1c0002row4_col1\" class=\"data row4 col1\" >0.537736</td>\n",
              "            </tr>\n",
              "    </tbody></table>"
            ],
            "text/plain": [
              "<pandas.io.formats.style.Styler at 0x7f3439468e10>"
            ]
          },
          "metadata": {
            "tags": []
          }
        }
      ]
    },
    {
      "cell_type": "markdown",
      "metadata": {
        "id": "smsqkOJK-vHY",
        "colab_type": "text"
      },
      "source": [
        "### We can create new features from nan values"
      ]
    },
    {
      "cell_type": "markdown",
      "metadata": {
        "id": "USbJAnRc_WCC",
        "colab_type": "text"
      },
      "source": [
        "### Let's see how target value depends on nan in real-valued features\n"
      ]
    },
    {
      "cell_type": "code",
      "metadata": {
        "id": "O_PN5ZVLFYLD",
        "colab_type": "code",
        "outputId": "e4532ee9-af5a-4db5-c9a4-843dad216854",
        "colab": {
          "base_uri": "https://localhost:8080/",
          "height": 716
        }
      },
      "source": [
        "for col_name, col in data.filter(like='c').isnull().items():\n",
        "  display(\n",
        "  pd.crosstab(col, data['target'], normalize='index').style.background_gradient(cmap='viridis'))"
      ],
      "execution_count": 9,
      "outputs": [
        {
          "output_type": "display_data",
          "data": {
            "text/html": [
              "<style  type=\"text/css\" >\n",
              "    #T_ad79bf30_95db_11e9_93a4_0242ac1c0002row0_col0 {\n",
              "            background-color:  #fde725;\n",
              "            color:  #000000;\n",
              "        }    #T_ad79bf30_95db_11e9_93a4_0242ac1c0002row0_col1 {\n",
              "            background-color:  #440154;\n",
              "            color:  #f1f1f1;\n",
              "        }    #T_ad79bf30_95db_11e9_93a4_0242ac1c0002row1_col0 {\n",
              "            background-color:  #440154;\n",
              "            color:  #f1f1f1;\n",
              "        }    #T_ad79bf30_95db_11e9_93a4_0242ac1c0002row1_col1 {\n",
              "            background-color:  #fde725;\n",
              "            color:  #000000;\n",
              "        }</style><table id=\"T_ad79bf30_95db_11e9_93a4_0242ac1c0002\" ><thead>    <tr>        <th class=\"index_name level0\" >target</th>        <th class=\"col_heading level0 col0\" >0</th>        <th class=\"col_heading level0 col1\" >1</th>    </tr>    <tr>        <th class=\"index_name level0\" >c1</th>        <th class=\"blank\" ></th>        <th class=\"blank\" ></th>    </tr></thead><tbody>\n",
              "                <tr>\n",
              "                        <th id=\"T_ad79bf30_95db_11e9_93a4_0242ac1c0002level0_row0\" class=\"row_heading level0 row0\" >False</th>\n",
              "                        <td id=\"T_ad79bf30_95db_11e9_93a4_0242ac1c0002row0_col0\" class=\"data row0 col0\" >0.498324</td>\n",
              "                        <td id=\"T_ad79bf30_95db_11e9_93a4_0242ac1c0002row0_col1\" class=\"data row0 col1\" >0.501676</td>\n",
              "            </tr>\n",
              "            <tr>\n",
              "                        <th id=\"T_ad79bf30_95db_11e9_93a4_0242ac1c0002level0_row1\" class=\"row_heading level0 row1\" >True</th>\n",
              "                        <td id=\"T_ad79bf30_95db_11e9_93a4_0242ac1c0002row1_col0\" class=\"data row1 col0\" >0.466667</td>\n",
              "                        <td id=\"T_ad79bf30_95db_11e9_93a4_0242ac1c0002row1_col1\" class=\"data row1 col1\" >0.533333</td>\n",
              "            </tr>\n",
              "    </tbody></table>"
            ],
            "text/plain": [
              "<pandas.io.formats.style.Styler at 0x7f343947bb00>"
            ]
          },
          "metadata": {
            "tags": []
          }
        },
        {
          "output_type": "display_data",
          "data": {
            "text/html": [
              "<style  type=\"text/css\" >\n",
              "    #T_ad7f0f30_95db_11e9_93a4_0242ac1c0002row0_col0 {\n",
              "            background-color:  #440154;\n",
              "            color:  #f1f1f1;\n",
              "        }    #T_ad7f0f30_95db_11e9_93a4_0242ac1c0002row0_col1 {\n",
              "            background-color:  #fde725;\n",
              "            color:  #000000;\n",
              "        }    #T_ad7f0f30_95db_11e9_93a4_0242ac1c0002row1_col0 {\n",
              "            background-color:  #fde725;\n",
              "            color:  #000000;\n",
              "        }    #T_ad7f0f30_95db_11e9_93a4_0242ac1c0002row1_col1 {\n",
              "            background-color:  #440154;\n",
              "            color:  #f1f1f1;\n",
              "        }</style><table id=\"T_ad7f0f30_95db_11e9_93a4_0242ac1c0002\" ><thead>    <tr>        <th class=\"index_name level0\" >target</th>        <th class=\"col_heading level0 col0\" >0</th>        <th class=\"col_heading level0 col1\" >1</th>    </tr>    <tr>        <th class=\"index_name level0\" >c2</th>        <th class=\"blank\" ></th>        <th class=\"blank\" ></th>    </tr></thead><tbody>\n",
              "                <tr>\n",
              "                        <th id=\"T_ad7f0f30_95db_11e9_93a4_0242ac1c0002level0_row0\" class=\"row_heading level0 row0\" >False</th>\n",
              "                        <td id=\"T_ad7f0f30_95db_11e9_93a4_0242ac1c0002row0_col0\" class=\"data row0 col0\" >0.485523</td>\n",
              "                        <td id=\"T_ad7f0f30_95db_11e9_93a4_0242ac1c0002row0_col1\" class=\"data row0 col1\" >0.514477</td>\n",
              "            </tr>\n",
              "            <tr>\n",
              "                        <th id=\"T_ad7f0f30_95db_11e9_93a4_0242ac1c0002level0_row1\" class=\"row_heading level0 row1\" >True</th>\n",
              "                        <td id=\"T_ad7f0f30_95db_11e9_93a4_0242ac1c0002row1_col0\" class=\"data row1 col0\" >0.578431</td>\n",
              "                        <td id=\"T_ad7f0f30_95db_11e9_93a4_0242ac1c0002row1_col1\" class=\"data row1 col1\" >0.421569</td>\n",
              "            </tr>\n",
              "    </tbody></table>"
            ],
            "text/plain": [
              "<pandas.io.formats.style.Styler at 0x7f34610357f0>"
            ]
          },
          "metadata": {
            "tags": []
          }
        },
        {
          "output_type": "display_data",
          "data": {
            "text/html": [
              "<style  type=\"text/css\" >\n",
              "    #T_ad83ae3c_95db_11e9_93a4_0242ac1c0002row0_col0 {\n",
              "            background-color:  #440154;\n",
              "            color:  #f1f1f1;\n",
              "        }    #T_ad83ae3c_95db_11e9_93a4_0242ac1c0002row0_col1 {\n",
              "            background-color:  #fde725;\n",
              "            color:  #000000;\n",
              "        }    #T_ad83ae3c_95db_11e9_93a4_0242ac1c0002row1_col0 {\n",
              "            background-color:  #fde725;\n",
              "            color:  #000000;\n",
              "        }    #T_ad83ae3c_95db_11e9_93a4_0242ac1c0002row1_col1 {\n",
              "            background-color:  #440154;\n",
              "            color:  #f1f1f1;\n",
              "        }</style><table id=\"T_ad83ae3c_95db_11e9_93a4_0242ac1c0002\" ><thead>    <tr>        <th class=\"index_name level0\" >target</th>        <th class=\"col_heading level0 col0\" >0</th>        <th class=\"col_heading level0 col1\" >1</th>    </tr>    <tr>        <th class=\"index_name level0\" >c3</th>        <th class=\"blank\" ></th>        <th class=\"blank\" ></th>    </tr></thead><tbody>\n",
              "                <tr>\n",
              "                        <th id=\"T_ad83ae3c_95db_11e9_93a4_0242ac1c0002level0_row0\" class=\"row_heading level0 row0\" >False</th>\n",
              "                        <td id=\"T_ad83ae3c_95db_11e9_93a4_0242ac1c0002row0_col0\" class=\"data row0 col0\" >0.491091</td>\n",
              "                        <td id=\"T_ad83ae3c_95db_11e9_93a4_0242ac1c0002row0_col1\" class=\"data row0 col1\" >0.508909</td>\n",
              "            </tr>\n",
              "            <tr>\n",
              "                        <th id=\"T_ad83ae3c_95db_11e9_93a4_0242ac1c0002level0_row1\" class=\"row_heading level0 row1\" >True</th>\n",
              "                        <td id=\"T_ad83ae3c_95db_11e9_93a4_0242ac1c0002row1_col0\" class=\"data row1 col0\" >0.529412</td>\n",
              "                        <td id=\"T_ad83ae3c_95db_11e9_93a4_0242ac1c0002row1_col1\" class=\"data row1 col1\" >0.470588</td>\n",
              "            </tr>\n",
              "    </tbody></table>"
            ],
            "text/plain": [
              "<pandas.io.formats.style.Styler at 0x7f345a5cb978>"
            ]
          },
          "metadata": {
            "tags": []
          }
        },
        {
          "output_type": "display_data",
          "data": {
            "text/html": [
              "<style  type=\"text/css\" >\n",
              "    #T_ad88be5e_95db_11e9_93a4_0242ac1c0002row0_col0 {\n",
              "            background-color:  #fde725;\n",
              "            color:  #000000;\n",
              "        }    #T_ad88be5e_95db_11e9_93a4_0242ac1c0002row0_col1 {\n",
              "            background-color:  #440154;\n",
              "            color:  #f1f1f1;\n",
              "        }    #T_ad88be5e_95db_11e9_93a4_0242ac1c0002row1_col0 {\n",
              "            background-color:  #440154;\n",
              "            color:  #f1f1f1;\n",
              "        }    #T_ad88be5e_95db_11e9_93a4_0242ac1c0002row1_col1 {\n",
              "            background-color:  #fde725;\n",
              "            color:  #000000;\n",
              "        }</style><table id=\"T_ad88be5e_95db_11e9_93a4_0242ac1c0002\" ><thead>    <tr>        <th class=\"index_name level0\" >target</th>        <th class=\"col_heading level0 col0\" >0</th>        <th class=\"col_heading level0 col1\" >1</th>    </tr>    <tr>        <th class=\"index_name level0\" >c4</th>        <th class=\"blank\" ></th>        <th class=\"blank\" ></th>    </tr></thead><tbody>\n",
              "                <tr>\n",
              "                        <th id=\"T_ad88be5e_95db_11e9_93a4_0242ac1c0002level0_row0\" class=\"row_heading level0 row0\" >False</th>\n",
              "                        <td id=\"T_ad88be5e_95db_11e9_93a4_0242ac1c0002row0_col0\" class=\"data row0 col0\" >0.496659</td>\n",
              "                        <td id=\"T_ad88be5e_95db_11e9_93a4_0242ac1c0002row0_col1\" class=\"data row0 col1\" >0.503341</td>\n",
              "            </tr>\n",
              "            <tr>\n",
              "                        <th id=\"T_ad88be5e_95db_11e9_93a4_0242ac1c0002level0_row1\" class=\"row_heading level0 row1\" >True</th>\n",
              "                        <td id=\"T_ad88be5e_95db_11e9_93a4_0242ac1c0002row1_col0\" class=\"data row1 col0\" >0.480392</td>\n",
              "                        <td id=\"T_ad88be5e_95db_11e9_93a4_0242ac1c0002row1_col1\" class=\"data row1 col1\" >0.519608</td>\n",
              "            </tr>\n",
              "    </tbody></table>"
            ],
            "text/plain": [
              "<pandas.io.formats.style.Styler at 0x7f34610357f0>"
            ]
          },
          "metadata": {
            "tags": []
          }
        },
        {
          "output_type": "display_data",
          "data": {
            "text/html": [
              "<style  type=\"text/css\" >\n",
              "    #T_ad8dd5d8_95db_11e9_93a4_0242ac1c0002row0_col0 {\n",
              "            background-color:  #fde725;\n",
              "            color:  #000000;\n",
              "        }    #T_ad8dd5d8_95db_11e9_93a4_0242ac1c0002row0_col1 {\n",
              "            background-color:  #440154;\n",
              "            color:  #f1f1f1;\n",
              "        }    #T_ad8dd5d8_95db_11e9_93a4_0242ac1c0002row1_col0 {\n",
              "            background-color:  #440154;\n",
              "            color:  #f1f1f1;\n",
              "        }    #T_ad8dd5d8_95db_11e9_93a4_0242ac1c0002row1_col1 {\n",
              "            background-color:  #fde725;\n",
              "            color:  #000000;\n",
              "        }</style><table id=\"T_ad8dd5d8_95db_11e9_93a4_0242ac1c0002\" ><thead>    <tr>        <th class=\"index_name level0\" >target</th>        <th class=\"col_heading level0 col0\" >0</th>        <th class=\"col_heading level0 col1\" >1</th>    </tr>    <tr>        <th class=\"index_name level0\" >c5</th>        <th class=\"blank\" ></th>        <th class=\"blank\" ></th>    </tr></thead><tbody>\n",
              "                <tr>\n",
              "                        <th id=\"T_ad8dd5d8_95db_11e9_93a4_0242ac1c0002level0_row0\" class=\"row_heading level0 row0\" >False</th>\n",
              "                        <td id=\"T_ad8dd5d8_95db_11e9_93a4_0242ac1c0002row0_col0\" class=\"data row0 col0\" >0.497768</td>\n",
              "                        <td id=\"T_ad8dd5d8_95db_11e9_93a4_0242ac1c0002row0_col1\" class=\"data row0 col1\" >0.502232</td>\n",
              "            </tr>\n",
              "            <tr>\n",
              "                        <th id=\"T_ad8dd5d8_95db_11e9_93a4_0242ac1c0002level0_row1\" class=\"row_heading level0 row1\" >True</th>\n",
              "                        <td id=\"T_ad8dd5d8_95db_11e9_93a4_0242ac1c0002row1_col0\" class=\"data row1 col0\" >0.471154</td>\n",
              "                        <td id=\"T_ad8dd5d8_95db_11e9_93a4_0242ac1c0002row1_col1\" class=\"data row1 col1\" >0.528846</td>\n",
              "            </tr>\n",
              "    </tbody></table>"
            ],
            "text/plain": [
              "<pandas.io.formats.style.Styler at 0x7f3438eaffd0>"
            ]
          },
          "metadata": {
            "tags": []
          }
        },
        {
          "output_type": "display_data",
          "data": {
            "text/html": [
              "<style  type=\"text/css\" >\n",
              "    #T_ad923470_95db_11e9_93a4_0242ac1c0002row0_col0 {\n",
              "            background-color:  #fde725;\n",
              "            color:  #000000;\n",
              "        }    #T_ad923470_95db_11e9_93a4_0242ac1c0002row0_col1 {\n",
              "            background-color:  #440154;\n",
              "            color:  #f1f1f1;\n",
              "        }    #T_ad923470_95db_11e9_93a4_0242ac1c0002row1_col0 {\n",
              "            background-color:  #440154;\n",
              "            color:  #f1f1f1;\n",
              "        }    #T_ad923470_95db_11e9_93a4_0242ac1c0002row1_col1 {\n",
              "            background-color:  #fde725;\n",
              "            color:  #000000;\n",
              "        }</style><table id=\"T_ad923470_95db_11e9_93a4_0242ac1c0002\" ><thead>    <tr>        <th class=\"index_name level0\" >target</th>        <th class=\"col_heading level0 col0\" >0</th>        <th class=\"col_heading level0 col1\" >1</th>    </tr>    <tr>        <th class=\"index_name level0\" >c6</th>        <th class=\"blank\" ></th>        <th class=\"blank\" ></th>    </tr></thead><tbody>\n",
              "                <tr>\n",
              "                        <th id=\"T_ad923470_95db_11e9_93a4_0242ac1c0002level0_row0\" class=\"row_heading level0 row0\" >False</th>\n",
              "                        <td id=\"T_ad923470_95db_11e9_93a4_0242ac1c0002row0_col0\" class=\"data row0 col0\" >0.496072</td>\n",
              "                        <td id=\"T_ad923470_95db_11e9_93a4_0242ac1c0002row0_col1\" class=\"data row0 col1\" >0.503928</td>\n",
              "            </tr>\n",
              "            <tr>\n",
              "                        <th id=\"T_ad923470_95db_11e9_93a4_0242ac1c0002level0_row1\" class=\"row_heading level0 row1\" >True</th>\n",
              "                        <td id=\"T_ad923470_95db_11e9_93a4_0242ac1c0002row1_col0\" class=\"data row1 col0\" >0.486239</td>\n",
              "                        <td id=\"T_ad923470_95db_11e9_93a4_0242ac1c0002row1_col1\" class=\"data row1 col1\" >0.513761</td>\n",
              "            </tr>\n",
              "    </tbody></table>"
            ],
            "text/plain": [
              "<pandas.io.formats.style.Styler at 0x7f343947bb00>"
            ]
          },
          "metadata": {
            "tags": []
          }
        },
        {
          "output_type": "display_data",
          "data": {
            "text/html": [
              "<style  type=\"text/css\" >\n",
              "    #T_ad96b9f0_95db_11e9_93a4_0242ac1c0002row0_col0 {\n",
              "            background-color:  #440154;\n",
              "            color:  #f1f1f1;\n",
              "        }    #T_ad96b9f0_95db_11e9_93a4_0242ac1c0002row0_col1 {\n",
              "            background-color:  #fde725;\n",
              "            color:  #000000;\n",
              "        }    #T_ad96b9f0_95db_11e9_93a4_0242ac1c0002row1_col0 {\n",
              "            background-color:  #fde725;\n",
              "            color:  #000000;\n",
              "        }    #T_ad96b9f0_95db_11e9_93a4_0242ac1c0002row1_col1 {\n",
              "            background-color:  #440154;\n",
              "            color:  #f1f1f1;\n",
              "        }</style><table id=\"T_ad96b9f0_95db_11e9_93a4_0242ac1c0002\" ><thead>    <tr>        <th class=\"index_name level0\" >target</th>        <th class=\"col_heading level0 col0\" >0</th>        <th class=\"col_heading level0 col1\" >1</th>    </tr>    <tr>        <th class=\"index_name level0\" >c7</th>        <th class=\"blank\" ></th>        <th class=\"blank\" ></th>    </tr></thead><tbody>\n",
              "                <tr>\n",
              "                        <th id=\"T_ad96b9f0_95db_11e9_93a4_0242ac1c0002level0_row0\" class=\"row_heading level0 row0\" >False</th>\n",
              "                        <td id=\"T_ad96b9f0_95db_11e9_93a4_0242ac1c0002row0_col0\" class=\"data row0 col0\" >0.484513</td>\n",
              "                        <td id=\"T_ad96b9f0_95db_11e9_93a4_0242ac1c0002row0_col1\" class=\"data row0 col1\" >0.515487</td>\n",
              "            </tr>\n",
              "            <tr>\n",
              "                        <th id=\"T_ad96b9f0_95db_11e9_93a4_0242ac1c0002level0_row1\" class=\"row_heading level0 row1\" >True</th>\n",
              "                        <td id=\"T_ad96b9f0_95db_11e9_93a4_0242ac1c0002row1_col0\" class=\"data row1 col0\" >0.59375</td>\n",
              "                        <td id=\"T_ad96b9f0_95db_11e9_93a4_0242ac1c0002row1_col1\" class=\"data row1 col1\" >0.40625</td>\n",
              "            </tr>\n",
              "    </tbody></table>"
            ],
            "text/plain": [
              "<pandas.io.formats.style.Styler at 0x7f3439491940>"
            ]
          },
          "metadata": {
            "tags": []
          }
        },
        {
          "output_type": "display_data",
          "data": {
            "text/html": [
              "<style  type=\"text/css\" >\n",
              "    #T_ad9b99ca_95db_11e9_93a4_0242ac1c0002row0_col0 {\n",
              "            background-color:  #fde725;\n",
              "            color:  #000000;\n",
              "        }    #T_ad9b99ca_95db_11e9_93a4_0242ac1c0002row0_col1 {\n",
              "            background-color:  #440154;\n",
              "            color:  #f1f1f1;\n",
              "        }    #T_ad9b99ca_95db_11e9_93a4_0242ac1c0002row1_col0 {\n",
              "            background-color:  #440154;\n",
              "            color:  #f1f1f1;\n",
              "        }    #T_ad9b99ca_95db_11e9_93a4_0242ac1c0002row1_col1 {\n",
              "            background-color:  #fde725;\n",
              "            color:  #000000;\n",
              "        }</style><table id=\"T_ad9b99ca_95db_11e9_93a4_0242ac1c0002\" ><thead>    <tr>        <th class=\"index_name level0\" >target</th>        <th class=\"col_heading level0 col0\" >0</th>        <th class=\"col_heading level0 col1\" >1</th>    </tr>    <tr>        <th class=\"index_name level0\" >c8</th>        <th class=\"blank\" ></th>        <th class=\"blank\" ></th>    </tr></thead><tbody>\n",
              "                <tr>\n",
              "                        <th id=\"T_ad9b99ca_95db_11e9_93a4_0242ac1c0002level0_row0\" class=\"row_heading level0 row0\" >False</th>\n",
              "                        <td id=\"T_ad9b99ca_95db_11e9_93a4_0242ac1c0002row0_col0\" class=\"data row0 col0\" >0.498316</td>\n",
              "                        <td id=\"T_ad9b99ca_95db_11e9_93a4_0242ac1c0002row0_col1\" class=\"data row0 col1\" >0.501684</td>\n",
              "            </tr>\n",
              "            <tr>\n",
              "                        <th id=\"T_ad9b99ca_95db_11e9_93a4_0242ac1c0002level0_row1\" class=\"row_heading level0 row1\" >True</th>\n",
              "                        <td id=\"T_ad9b99ca_95db_11e9_93a4_0242ac1c0002row1_col0\" class=\"data row1 col0\" >0.46789</td>\n",
              "                        <td id=\"T_ad9b99ca_95db_11e9_93a4_0242ac1c0002row1_col1\" class=\"data row1 col1\" >0.53211</td>\n",
              "            </tr>\n",
              "    </tbody></table>"
            ],
            "text/plain": [
              "<pandas.io.formats.style.Styler at 0x7f3461035898>"
            ]
          },
          "metadata": {
            "tags": []
          }
        }
      ]
    },
    {
      "cell_type": "markdown",
      "metadata": {
        "id": "Q7ffZIp5VM8L",
        "colab_type": "text"
      },
      "source": [
        "### As we can see info about nan in such columns as c7, c2, c8, c1 colud help estimator to predict target"
      ]
    },
    {
      "cell_type": "markdown",
      "metadata": {
        "id": "OyE0Vd4O_s7J",
        "colab_type": "text"
      },
      "source": [
        "### Let's buil corr map of real-valued features"
      ]
    },
    {
      "cell_type": "code",
      "metadata": {
        "id": "K3EQgjls-R8H",
        "colab_type": "code",
        "outputId": "7e8874c4-935c-463a-f574-7ff1c58c115b",
        "colab": {
          "base_uri": "https://localhost:8080/",
          "height": 606
        }
      },
      "source": [
        "corr = data[['target']].join(data.filter(like='c')).dropna().corr().abs()\n",
        "\n",
        "# plot the heatmap\n",
        "plt.figure(figsize=(10,10))\n",
        "sns.heatmap(corr, annot=True, fmt='.2f')\n",
        "plt.title('Real features corr map')\n",
        "plt.show()"
      ],
      "execution_count": 10,
      "outputs": [
        {
          "output_type": "display_data",
          "data": {
            "image/png": "[encoded data removed]",
            "text/plain": [
              "<Figure size 720x720 with 2 Axes>"
            ]
          },
          "metadata": {
            "tags": []
          }
        }
      ]
    },
    {
      "cell_type": "markdown",
      "metadata": {
        "id": "woTtiW96MDuC",
        "colab_type": "text"
      },
      "source": [
        "# Datset creation\n"
      ]
    },
    {
      "cell_type": "code",
      "metadata": {
        "id": "wnibcH3y7O3n",
        "colab_type": "code",
        "colab": {}
      },
      "source": [
        "categorical_columns = ['f1','f2', 'f3']\n",
        "real_columns = ['c1','c2',\t'c3',\t'c4',\t'c5',\t'c6',\t'c7', 'c8']"
      ],
      "execution_count": 0,
      "outputs": []
    },
    {
      "cell_type": "code",
      "metadata": {
        "id": "4QfwYe8SZaqU",
        "colab_type": "code",
        "outputId": "5c94fded-d9eb-4c8f-d642-33da2cee13ca",
        "colab": {
          "base_uri": "https://localhost:8080/",
          "height": 216
        }
      },
      "source": [
        "def get_features(data_):\n",
        "  data = data_.drop(['target'], axis=1)\n",
        "  \n",
        "  # add isnull features\n",
        "  is_null_cols=['c7', 'c2', 'c1', 'c8']\n",
        "  data = data.join(data[is_null_cols].isnull(), rsuffix='_isnull')\n",
        "  \n",
        "  #fillna\n",
        "  data.loc[:, real_columns] = data[real_columns].fillna(data[real_columns].mean())\n",
        "\n",
        "  #code categorical features\n",
        "  for col in categorical_columns:\n",
        "    data[col] = data[col].astype(\"category\").cat.codes\n",
        "\n",
        "  return data\n",
        "\n",
        "features = get_features(data)\n",
        "target = data['target']\n",
        "features.head(3)"
      ],
      "execution_count": 12,
      "outputs": [
        {
          "output_type": "execute_result",
          "data": {
            "text/html": [
              "<div>\n",
              "<style scoped>\n",
              "    .dataframe tbody tr th:only-of-type {\n",
              "        vertical-align: middle;\n",
              "    }\n",
              "\n",
              "    .dataframe tbody tr th {\n",
              "        vertical-align: top;\n",
              "    }\n",
              "\n",
              "    .dataframe thead th {\n",
              "        text-align: right;\n",
              "    }\n",
              "</style>\n",
              "<table border=\"1\" class=\"dataframe\">\n",
              "  <thead>\n",
              "    <tr style=\"text-align: right;\">\n",
              "      <th></th>\n",
              "      <th>c1</th>\n",
              "      <th>c2</th>\n",
              "      <th>c3</th>\n",
              "      <th>c4</th>\n",
              "      <th>c5</th>\n",
              "      <th>c6</th>\n",
              "      <th>c7</th>\n",
              "      <th>c8</th>\n",
              "      <th>f1</th>\n",
              "      <th>f2</th>\n",
              "      <th>f3</th>\n",
              "      <th>c7_isnull</th>\n",
              "      <th>c2_isnull</th>\n",
              "      <th>c1_isnull</th>\n",
              "      <th>c8_isnull</th>\n",
              "    </tr>\n",
              "    <tr>\n",
              "      <th>loan_id</th>\n",
              "      <th></th>\n",
              "      <th></th>\n",
              "      <th></th>\n",
              "      <th></th>\n",
              "      <th></th>\n",
              "      <th></th>\n",
              "      <th></th>\n",
              "      <th></th>\n",
              "      <th></th>\n",
              "      <th></th>\n",
              "      <th></th>\n",
              "      <th></th>\n",
              "      <th></th>\n",
              "      <th></th>\n",
              "      <th></th>\n",
              "    </tr>\n",
              "  </thead>\n",
              "  <tbody>\n",
              "    <tr>\n",
              "      <th>1</th>\n",
              "      <td>-19.121633</td>\n",
              "      <td>100.987693</td>\n",
              "      <td>0.244307</td>\n",
              "      <td>0.719121</td>\n",
              "      <td>292.990245</td>\n",
              "      <td>-7.608697</td>\n",
              "      <td>29.799024</td>\n",
              "      <td>0.000254</td>\n",
              "      <td>2</td>\n",
              "      <td>1</td>\n",
              "      <td>0</td>\n",
              "      <td>False</td>\n",
              "      <td>False</td>\n",
              "      <td>True</td>\n",
              "      <td>False</td>\n",
              "    </tr>\n",
              "    <tr>\n",
              "      <th>2</th>\n",
              "      <td>-3.491385</td>\n",
              "      <td>69.729741</td>\n",
              "      <td>1.203940</td>\n",
              "      <td>0.719121</td>\n",
              "      <td>300.505830</td>\n",
              "      <td>-3.341621</td>\n",
              "      <td>30.550583</td>\n",
              "      <td>0.000343</td>\n",
              "      <td>3</td>\n",
              "      <td>1</td>\n",
              "      <td>0</td>\n",
              "      <td>False</td>\n",
              "      <td>False</td>\n",
              "      <td>False</td>\n",
              "      <td>False</td>\n",
              "    </tr>\n",
              "    <tr>\n",
              "      <th>3</th>\n",
              "      <td>-13.319012</td>\n",
              "      <td>171.782722</td>\n",
              "      <td>0.643540</td>\n",
              "      <td>0.719121</td>\n",
              "      <td>324.569894</td>\n",
              "      <td>-6.020134</td>\n",
              "      <td>32.956989</td>\n",
              "      <td>0.000113</td>\n",
              "      <td>-1</td>\n",
              "      <td>-1</td>\n",
              "      <td>1</td>\n",
              "      <td>False</td>\n",
              "      <td>False</td>\n",
              "      <td>False</td>\n",
              "      <td>False</td>\n",
              "    </tr>\n",
              "  </tbody>\n",
              "</table>\n",
              "</div>"
            ],
            "text/plain": [
              "                c1          c2        c3  ...  c2_isnull  c1_isnull  c8_isnull\n",
              "loan_id                                   ...                                 \n",
              "1       -19.121633  100.987693  0.244307  ...      False       True      False\n",
              "2        -3.491385   69.729741  1.203940  ...      False      False      False\n",
              "3       -13.319012  171.782722  0.643540  ...      False      False      False\n",
              "\n",
              "[3 rows x 15 columns]"
            ]
          },
          "metadata": {
            "tags": []
          },
          "execution_count": 12
        }
      ]
    },
    {
      "cell_type": "markdown",
      "metadata": {
        "id": "x6fUl6TeAWLy",
        "colab_type": "text"
      },
      "source": [
        "### Let's build a test dataset for us\n"
      ]
    },
    {
      "cell_type": "code",
      "metadata": {
        "id": "aiA_4YT2TryD",
        "colab_type": "code",
        "colab": {}
      },
      "source": [
        "from sklearn.model_selection import train_test_split\n",
        "from sklearn.model_selection import GridSearchCV\n",
        "from sklearn.ensemble import RandomForestClassifier\n",
        "from sklearn.metrics import accuracy_score\n",
        "\n",
        "X_train, X_test, y_train, y_test = train_test_split(\n",
        "      features, target, test_size=0.2, random_state=44)"
      ],
      "execution_count": 0,
      "outputs": []
    },
    {
      "cell_type": "markdown",
      "metadata": {
        "id": "BKJdxzOyAfCr",
        "colab_type": "text"
      },
      "source": [
        "### As we can see there are only 1000 sample so let's start with simple models\n"
      ]
    },
    {
      "cell_type": "code",
      "metadata": {
        "id": "KTSEXhuxUQsg",
        "colab_type": "code",
        "colab": {}
      },
      "source": [
        "rfc=RandomForestClassifier(random_state=42)"
      ],
      "execution_count": 0,
      "outputs": []
    },
    {
      "cell_type": "code",
      "metadata": {
        "id": "EPbuLPbYUT3o",
        "colab_type": "code",
        "colab": {}
      },
      "source": [
        "param_grid = { \n",
        "    'n_estimators': [100, 150, 200,250, 300],\n",
        "    'max_features': ['auto', 'sqrt', 'log2'],\n",
        "    'max_depth' : [ 5, 7, 10, 15, 20, 25, 30, 40],\n",
        "    'criterion' :['gini', 'entropy']\n",
        "}"
      ],
      "execution_count": 0,
      "outputs": []
    },
    {
      "cell_type": "markdown",
      "metadata": {
        "id": "NHJ0iMlvA9oO",
        "colab_type": "text"
      },
      "source": [
        "### Finding best params on training set"
      ]
    },
    {
      "cell_type": "markdown",
      "metadata": {
        "id": "6BPFukCSBZ3C",
        "colab_type": "text"
      },
      "source": [
        "### We can use accuracy as our score because the classes are balanced"
      ]
    },
    {
      "cell_type": "code",
      "metadata": {
        "id": "n7K8VXTCUXC5",
        "colab_type": "code",
        "outputId": "0b83b718-31d2-4d0c-8d74-5a48ac8d7823",
        "colab": {
          "base_uri": "https://localhost:8080/",
          "height": 486
        }
      },
      "source": [
        "CV_rfc = GridSearchCV(scoring='accuracy',\n",
        "                      estimator=rfc, \n",
        "                      param_grid=param_grid, \n",
        "                      cv=5, n_jobs=-1,\n",
        "                      verbose=1)\n",
        "CV_rfc.fit(X_train, y_train)"
      ],
      "execution_count": 16,
      "outputs": [
        {
          "output_type": "stream",
          "text": [
            "Fitting 5 folds for each of 240 candidates, totalling 1200 fits\n"
          ],
          "name": "stdout"
        },
        {
          "output_type": "stream",
          "text": [
            "[Parallel(n_jobs=-1)]: Using backend LokyBackend with 2 concurrent workers.\n",
            "[Parallel(n_jobs=-1)]: Done  46 tasks      | elapsed:   10.9s\n",
            "[Parallel(n_jobs=-1)]: Done 196 tasks      | elapsed:   43.3s\n",
            "[Parallel(n_jobs=-1)]: Done 446 tasks      | elapsed:  1.7min\n",
            "[Parallel(n_jobs=-1)]: Done 796 tasks      | elapsed:  3.2min\n",
            "[Parallel(n_jobs=-1)]: Done 1200 out of 1200 | elapsed:  5.4min finished\n"
          ],
          "name": "stderr"
        },
        {
          "output_type": "execute_result",
          "data": {
            "text/plain": [
              "GridSearchCV(cv=5, error_score='raise-deprecating',\n",
              "             estimator=RandomForestClassifier(bootstrap=True, class_weight=None,\n",
              "                                              criterion='gini', max_depth=None,\n",
              "                                              max_features='auto',\n",
              "                                              max_leaf_nodes=None,\n",
              "                                              min_impurity_decrease=0.0,\n",
              "                                              min_impurity_split=None,\n",
              "                                              min_samples_leaf=1,\n",
              "                                              min_samples_split=2,\n",
              "                                              min_weight_fraction_leaf=0.0,\n",
              "                                              n_estimators='warn', n_jobs=None,\n",
              "                                              oob_score=False, random_state=42,\n",
              "                                              verbose=0, warm_start=False),\n",
              "             iid='warn', n_jobs=-1,\n",
              "             param_grid={'criterion': ['gini', 'entropy'],\n",
              "                         'max_depth': [5, 7, 10, 15, 20, 25, 30, 40],\n",
              "                         'max_features': ['auto', 'sqrt', 'log2'],\n",
              "                         'n_estimators': [100, 150, 200, 250, 300]},\n",
              "             pre_dispatch='2*n_jobs', refit=True, return_train_score=False,\n",
              "             scoring='accuracy', verbose=1)"
            ]
          },
          "metadata": {
            "tags": []
          },
          "execution_count": 16
        }
      ]
    },
    {
      "cell_type": "code",
      "metadata": {
        "id": "MXucPAs4Vr1D",
        "colab_type": "code",
        "outputId": "3a22b9d4-71ca-4000-f1d4-8d1d7c1d3ee9",
        "colab": {
          "base_uri": "https://localhost:8080/",
          "height": 88
        }
      },
      "source": [
        "CV_rfc.best_params_"
      ],
      "execution_count": 17,
      "outputs": [
        {
          "output_type": "execute_result",
          "data": {
            "text/plain": [
              "{'criterion': 'entropy',\n",
              " 'max_depth': 20,\n",
              " 'max_features': 'auto',\n",
              " 'n_estimators': 300}"
            ]
          },
          "metadata": {
            "tags": []
          },
          "execution_count": 17
        }
      ]
    },
    {
      "cell_type": "markdown",
      "metadata": {
        "id": "N6ctuv8aBzmT",
        "colab_type": "text"
      },
      "source": [
        "### Best score on train"
      ]
    },
    {
      "cell_type": "code",
      "metadata": {
        "id": "z2QO-1qBBDP9",
        "colab_type": "code",
        "colab": {
          "base_uri": "https://localhost:8080/",
          "height": 36
        },
        "outputId": "fc51e2ba-5de6-4ea4-8d8c-776026b36997"
      },
      "source": [
        "CV_rfc.best_score_"
      ],
      "execution_count": 18,
      "outputs": [
        {
          "output_type": "execute_result",
          "data": {
            "text/plain": [
              "0.80375"
            ]
          },
          "metadata": {
            "tags": []
          },
          "execution_count": 18
        }
      ]
    },
    {
      "cell_type": "markdown",
      "metadata": {
        "id": "NLzvC1I3BKah",
        "colab_type": "text"
      },
      "source": [
        "### Predicting on test dataset "
      ]
    },
    {
      "cell_type": "code",
      "metadata": {
        "id": "4WR0Aw4-VxRa",
        "colab_type": "code",
        "outputId": "bf7de97e-c3f3-47b8-9ee4-b05a8eae2ea8",
        "colab": {
          "base_uri": "https://localhost:8080/",
          "height": 36
        }
      },
      "source": [
        "rfc1 = CV_rfc.best_estimator_\n",
        "rfc1.fit(X_train, y_train)\n",
        "y_pred=rfc1.predict(X_test)\n",
        "print(\"Accuracy for Random Forest on CV data: \", accuracy_score(y_test,y_pred))"
      ],
      "execution_count": 25,
      "outputs": [
        {
          "output_type": "stream",
          "text": [
            "Accuracy for Random Forest on CV data:  0.79\n"
          ],
          "name": "stdout"
        }
      ]
    },
    {
      "cell_type": "markdown",
      "metadata": {
        "id": "q4wwNpyAW4D6",
        "colab_type": "text"
      },
      "source": [
        "### Let's now try another model architecture"
      ]
    },
    {
      "cell_type": "markdown",
      "metadata": {
        "id": "F6Pw7mjuCr9Z",
        "colab_type": "text"
      },
      "source": [
        "## Gradient Boosting Classifier"
      ]
    },
    {
      "cell_type": "code",
      "metadata": {
        "id": "vi07AaeZA4Md",
        "colab_type": "code",
        "colab": {
          "base_uri": "https://localhost:8080/",
          "height": 590
        },
        "outputId": "ca7462f4-d7c9-4923-9134-4c7ae1a30f1e"
      },
      "source": [
        "from sklearn.ensemble import GradientBoostingClassifier\n",
        "\n",
        "\n",
        "clf=GradientBoostingClassifier(random_state=42)\n",
        "\n",
        "param_grid = {'learning_rate':[0.05, 0.07,0.1,0.15, 0.2], \n",
        "              'min_samples_split':[5,10,15,20], \n",
        "              'max_depth':[4,5,7,10,15],\n",
        "             'n_estimators':[100, 150, 200]}\n",
        "\n",
        "gs = GridSearchCV(scoring='accuracy',\n",
        "                      estimator=clf, \n",
        "                      param_grid=param_grid, \n",
        "                      cv=5, n_jobs=-1,\n",
        "                      verbose=1)\n",
        "gs.fit(X_train, y_train)"
      ],
      "execution_count": 42,
      "outputs": [
        {
          "output_type": "stream",
          "text": [
            "Fitting 5 folds for each of 300 candidates, totalling 1500 fits\n"
          ],
          "name": "stdout"
        },
        {
          "output_type": "stream",
          "text": [
            "[Parallel(n_jobs=-1)]: Using backend LokyBackend with 2 concurrent workers.\n",
            "[Parallel(n_jobs=-1)]: Done  46 tasks      | elapsed:    8.2s\n",
            "[Parallel(n_jobs=-1)]: Done 196 tasks      | elapsed:  1.1min\n",
            "[Parallel(n_jobs=-1)]: Done 446 tasks      | elapsed:  2.8min\n",
            "[Parallel(n_jobs=-1)]: Done 796 tasks      | elapsed:  5.2min\n",
            "[Parallel(n_jobs=-1)]: Done 1246 tasks      | elapsed:  7.5min\n",
            "[Parallel(n_jobs=-1)]: Done 1500 out of 1500 | elapsed:  8.6min finished\n"
          ],
          "name": "stderr"
        },
        {
          "output_type": "execute_result",
          "data": {
            "text/plain": [
              "GridSearchCV(cv=5, error_score='raise-deprecating',\n",
              "             estimator=GradientBoostingClassifier(criterion='friedman_mse',\n",
              "                                                  init=None, learning_rate=0.1,\n",
              "                                                  loss='deviance', max_depth=3,\n",
              "                                                  max_features=None,\n",
              "                                                  max_leaf_nodes=None,\n",
              "                                                  min_impurity_decrease=0.0,\n",
              "                                                  min_impurity_split=None,\n",
              "                                                  min_samples_leaf=1,\n",
              "                                                  min_samples_split=2,\n",
              "                                                  min_weight_fraction_leaf=0.0,\n",
              "                                                  n_estimators=100,\n",
              "                                                  n_iter_no...\n",
              "                                                  presort='auto',\n",
              "                                                  random_state=42,\n",
              "                                                  subsample=1.0, tol=0.0001,\n",
              "                                                  validation_fraction=0.1,\n",
              "                                                  verbose=0, warm_start=False),\n",
              "             iid='warn', n_jobs=-1,\n",
              "             param_grid={'learning_rate': [0.05, 0.07, 0.1, 0.15, 0.2],\n",
              "                         'max_depth': [4, 5, 7, 10, 15],\n",
              "                         'min_samples_split': [5, 10, 15, 20],\n",
              "                         'n_estimators': [100, 150, 200]},\n",
              "             pre_dispatch='2*n_jobs', refit=True, return_train_score=False,\n",
              "             scoring='accuracy', verbose=1)"
            ]
          },
          "metadata": {
            "tags": []
          },
          "execution_count": 42
        }
      ]
    },
    {
      "cell_type": "code",
      "metadata": {
        "id": "qdKl1B8_CWNO",
        "colab_type": "code",
        "colab": {
          "base_uri": "https://localhost:8080/",
          "height": 88
        },
        "outputId": "6105a6bb-c43b-4221-ce80-caab27f3cc87"
      },
      "source": [
        "gs.best_params_"
      ],
      "execution_count": 43,
      "outputs": [
        {
          "output_type": "execute_result",
          "data": {
            "text/plain": [
              "{'learning_rate': 0.2,\n",
              " 'max_depth': 5,\n",
              " 'min_samples_split': 5,\n",
              " 'n_estimators': 150}"
            ]
          },
          "metadata": {
            "tags": []
          },
          "execution_count": 43
        }
      ]
    },
    {
      "cell_type": "markdown",
      "metadata": {
        "id": "KxV_SnlgSZbG",
        "colab_type": "text"
      },
      "source": [
        "### Result is better then with random forest"
      ]
    },
    {
      "cell_type": "code",
      "metadata": {
        "id": "blijha-WWALP",
        "colab_type": "code",
        "outputId": "ab04715d-afea-4c73-bc50-6124ac7fadcd",
        "colab": {
          "base_uri": "https://localhost:8080/",
          "height": 36
        }
      },
      "source": [
        "gs.best_score_"
      ],
      "execution_count": 44,
      "outputs": [
        {
          "output_type": "execute_result",
          "data": {
            "text/plain": [
              "0.835"
            ]
          },
          "metadata": {
            "tags": []
          },
          "execution_count": 44
        }
      ]
    },
    {
      "cell_type": "markdown",
      "metadata": {
        "id": "7thBv5EmSVHB",
        "colab_type": "text"
      },
      "source": [
        "## Predicting on test"
      ]
    },
    {
      "cell_type": "code",
      "metadata": {
        "id": "H4BO8_4DCXL3",
        "colab_type": "code",
        "colab": {
          "base_uri": "https://localhost:8080/",
          "height": 36
        },
        "outputId": "657b0d92-f74c-4074-8e23-1928becf6550"
      },
      "source": [
        "clf1 = gs.best_estimator_\n",
        "clf1.fit(X_train, y_train)\n",
        "y_pred=clf1.predict(X_test)\n",
        "print(\"Accuracy for Gradient Boosting on CV data: \",accuracy_score(y_test,y_pred))"
      ],
      "execution_count": 46,
      "outputs": [
        {
          "output_type": "stream",
          "text": [
            "Accuracy for Gradient Boosting on CV data:  0.835\n"
          ],
          "name": "stdout"
        }
      ]
    },
    {
      "cell_type": "markdown",
      "metadata": {
        "id": "taKyow2aSkNP",
        "colab_type": "text"
      },
      "source": [
        "### We got pretty good results on test comparing to random forest.\n"
      ]
    },
    {
      "cell_type": "markdown",
      "metadata": {
        "id": "xLcix68oTNs9",
        "colab_type": "text"
      },
      "source": [
        "### It would be very interesting to work with neural network and bigger dataset, also info about features could be helpful."
      ]
    },
    {
      "cell_type": "markdown",
      "metadata": {
        "id": "SltKespMXv6Y",
        "colab_type": "text"
      },
      "source": [
        "### For model deploying, I'd use a classic approach. A simple server containing a trained model and code for feature preprocessing with API using Docker. Prediction could be retrieved using simple GET request to API with parameters of the sample."
      ]
    }
  ]
}